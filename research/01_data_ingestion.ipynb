{
 "cells": [
  {
   "cell_type": "code",
   "execution_count": 1,
   "metadata": {},
   "outputs": [],
   "source": [
    "import os"
   ]
  },
  {
   "cell_type": "code",
   "execution_count": 2,
   "metadata": {},
   "outputs": [],
   "source": [
    "os.chdir(\"../\")"
   ]
  },
  {
   "cell_type": "code",
   "execution_count": 3,
   "metadata": {},
   "outputs": [
    {
     "data": {
      "text/plain": [
       "'/workspaces/stok_opt-mimizasyon_mlops_project'"
      ]
     },
     "execution_count": 3,
     "metadata": {},
     "output_type": "execute_result"
    }
   ],
   "source": [
    "%pwd"
   ]
  },
  {
   "cell_type": "markdown",
   "metadata": {},
   "source": [
    "## 1.ENTİTİY\n",
    "\n",
    "Değişkenlerimi ve değişkenlerimin tiplerini oluşturacağım\n"
   ]
  },
  {
   "cell_type": "code",
   "execution_count": 4,
   "metadata": {},
   "outputs": [],
   "source": [
    "from dataclasses import dataclass\n",
    "from pathlib import Path\n",
    "from src.stok_optimizasyonu_ml_project.constants import CONFIG_FILE_PATH,PARAMS_FILE_PATH\n",
    "from src.stok_optimizasyonu_ml_project.utils.common import read_yaml,create_directories\n",
    "\n",
    "@dataclass(frozen=True)\n",
    "class DataIngestionConfig:\n",
    "    root_dir: Path\n",
    "    source_URL: str\n",
    "    local_data_file: Path\n",
    "    unzip_dir: Path"
   ]
  },
  {
   "cell_type": "markdown",
   "metadata": {},
   "source": [
    "# CONFİG\n",
    "Yukarıda değişkenlerini tanımladığımız yapıların değerlerini verelim"
   ]
  },
  {
   "cell_type": "code",
   "execution_count": 5,
   "metadata": {},
   "outputs": [],
   "source": [
    "from src.stok_optimizasyonu_ml_project.constants import *\n",
    "from src.stok_optimizasyonu_ml_project.utils.common import read_yaml,create_directories"
   ]
  },
  {
   "cell_type": "code",
   "execution_count": 6,
   "metadata": {},
   "outputs": [],
   "source": [
    "class ConfigurationManager:\n",
    "    def __init__(self, config_filepath=CONFIG_FILE_PATH, params_filepath=PARAMS_FILE_PATH, schema_filepath = SCHEMA_FILE_PATH):\n",
    "        self.config = read_yaml(config_filepath)\n",
    "        self.params = read_yaml(params_filepath)\n",
    "        self.schema = read_yaml(schema_filepath)\n",
    "        print(\"Yüklenen config:\", self.config)  # Debug için eklendi\n",
    "        \n",
    "        create_directories([self.config.artifacts_root])\n",
    "\n",
    "\n",
    "    \n",
    "    def get_data_ingestion_config(self) -> DataIngestionConfig: # Yukarida DataIngestionConfig sinifi icerisinde tanimlamis oldugum degiskenleri return edecektir\n",
    "        config = self.config.data_ingestion # root_dir, local_data_file, source_URL, unzip_dir keylerine erisim sagliyorum\n",
    "\n",
    "        create_directories([config.root_dir]) # artifacts/data_ingestion isimli bir klasor olustuyorum\n",
    "\n",
    "        data_ingestion_config = DataIngestionConfig( # Ust hucrede tanimlamis oldugum sinifin nesnesini yaratiyorum\n",
    "            root_dir=config.root_dir, #artifacts/data_ingestion\n",
    "            source_URL=config.source_URL, #https://www.kaggle.com/api/v1/datasets/download/bhavikjikadara/student-study-performance\n",
    "            local_data_file=config.local_data_file, # artifacts/data_ingestion/data.zip\n",
    "            unzip_dir=config.unzip_dir, # artifacts/data_ingestion\n",
    "        )\n",
    "\n",
    "        return data_ingestion_config"
   ]
  },
  {
   "cell_type": "markdown",
   "metadata": {},
   "source": [
    "# COMPONENTS"
   ]
  },
  {
   "cell_type": "code",
   "execution_count": 7,
   "metadata": {},
   "outputs": [],
   "source": [
    "import os\n",
    "import urllib.request as request\n",
    "import zipfile\n",
    "from src.stok_optimizasyonu_ml_project import logger\n",
    "from src.stok_optimizasyonu_ml_project.utils.common import get_size"
   ]
  },
  {
   "cell_type": "code",
   "execution_count": 8,
   "metadata": {},
   "outputs": [],
   "source": [
    "\n",
    "class DataIngestion:\n",
    "    def __init__(self,config: DataIngestionConfig): # config parametresi DataIngestionConfig icerisnde olusturulmus degiskenlerini ve tiplerini almasi saglaniyor\n",
    "        self.config = config # config degiskenine deger olarak DataIngestion sinifindan nesne olusturken config parametresinin yerine ne deger ataniyorsa aynisi config degiskenine atanmasi saglaniyor\n",
    "\n",
    "\n",
    "    \n",
    "    def download_file(self):\n",
    "        if not os.path.exists(self.config.local_data_file): # data.zip isimli bir dosya yoksa True Donecektir\n",
    "            filename, headers = request.urlretrieve(\n",
    "                url = self.config.source_URL, # url parametre dosyanin hangi siteden indirilmesi gerektigini alir\n",
    "                filename = self.config.local_data_file # dosyayi hangi isimle locale indirmen gerektigini yazar\n",
    "            )\n",
    "            logger.info(f\"{filename} download! with following info: \\n{headers}\")\n",
    "        else: # eger onceden boyle bir dosya varsa\n",
    "            logger.info(f\"File already exists of size: {get_size(Path(self.config.local_data_file))}\")  #data.zip dosyasinin kb olarak ne kadar buyuk oldugunu loglar\n",
    "\n",
    "\n",
    "    \n",
    "    def extract_zip_file(self):\n",
    "        \"\"\"\n",
    "        zip_file_path: str\n",
    "        Extracts the zip file into the data directory\n",
    "        Function returns None\n",
    "        \"\"\"\n",
    "        unzip_path = self.config.unzip_dir # unzip_path degiskenine artifacts/data_ingestion bu degeri atiyoruz\n",
    "        os.makedirs(unzip_path, exist_ok=True)\n",
    "        with zipfile.ZipFile(self.config.local_data_file, 'r') as zip_ref: # zip_ref adini verdigimiz bir degiskenle data.zipin icerini acip okuyoruz\n",
    "            zip_ref.extractall(unzip_path) # extractall metoduyla dosyami zipten cikarip artifacts/data_ingestion bu klasor icerisine atiyorum\n",
    "\n",
    "    "
   ]
  },
  {
   "cell_type": "markdown",
   "metadata": {},
   "source": [
    "# PİPELİNE"
   ]
  },
  {
   "cell_type": "code",
   "execution_count": 9,
   "metadata": {},
   "outputs": [
    {
     "name": "stdout",
     "output_type": "stream",
     "text": [
      "Yüklenen config: {'artifacts_root': 'artifacts', 'data_ingestion': {'root_dir': 'artifacts/data_ingestion', 'source_URL': 'https://www.kaggle.com/api/v1/datasets/download/zkankurukavak/satslar-zkan', 'local_data_file': 'artifacts/data_ingestion/data.zip', 'unzip_dir': 'artifacts/data_ingestion'}, 'data_validation': {'root_dir': 'artifacts/data_validation', 'unzip_data_dir': 'artifacts/data_ingestion/satslar.csv', 'STATUS_FILE': 'artifacts/data_validation/status.txt'}, 'data_transformation': {'root_dir': 'artifacts/data_transformation/', 'data_path': 'artifacts/data_ingestion/satslar.csv', 'transformed_data_path': 'artifacts/data_transformation/', 'train_data_path': 'artifacts/data_transformation/train_data.csv', 'test_data_path': 'artifacts/data_transformation/test_data.csv'}, 'model_trainer': {'root_dir': 'artifacts/model_trainer', 'train_data_path': 'artifacts/data_transformation/train_data.csv', 'test_data_path': 'artifacts/data_transformation/test_data.csv', 'model_name': 'xgboost_model.pkl', 'grid_search': True, 'scoring_metric': 'accuracy', 'test_size': 0.2, 'random_state': 42, 'target_column': 'target'}}\n",
      "[2025-03-12 10:54:09,748: INFO: 1762413072: artifacts/data_ingestion/data.zip download! with following info: \n",
      "X-GUploader-UploadID: AKDAyIs07LO_1zo_9e4ktb3FvCGaHC3NP-K06EOPu255Dlajqt6QI1K8QfFuPSal26KKUjk\n",
      "Expires: Wed, 12 Mar 2025 10:54:08 GMT\n",
      "Date: Wed, 12 Mar 2025 10:54:08 GMT\n",
      "Cache-Control: private, max-age=0\n",
      "Last-Modified: Wed, 29 Jan 2025 20:07:47 GMT\n",
      "ETag: \"b407e22b2272b49e6568912715951007\"\n",
      "x-goog-generation: 1738181267641705\n",
      "x-goog-metageneration: 1\n",
      "x-goog-stored-content-encoding: identity\n",
      "x-goog-stored-content-length: 14926338\n",
      "Content-Type: application/zip\n",
      "x-goog-hash: crc32c=o9a6lw==\n",
      "x-goog-hash: md5=tAfiKyJytJ5laJEnFZUQBw==\n",
      "x-goog-storage-class: MULTI_REGIONAL\n",
      "Accept-Ranges: bytes\n",
      "Content-Length: 14926338\n",
      "Access-Control-Allow-Origin: *\n",
      "Access-Control-Expose-Headers: Content-Type\n",
      "Access-Control-Expose-Headers: User-Agent\n",
      "Server: UploadServer\n",
      "Alt-Svc: h3=\":443\"; ma=2592000,h3-29=\":443\"; ma=2592000\n",
      "Connection: close\n",
      "\n",
      "]\n"
     ]
    }
   ],
   "source": [
    "try:\n",
    "    config = ConfigurationManager()\n",
    "    data_ingestion_config = config.get_data_ingestion_config()\n",
    "    data_ingestion = DataIngestion(config=data_ingestion_config)\n",
    "    data_ingestion.download_file()\n",
    "    data_ingestion.extract_zip_file()\n",
    "except Exception as e:\n",
    "    raise e"
   ]
  }
 ],
 "metadata": {
  "kernelspec": {
   "display_name": "Python 3",
   "language": "python",
   "name": "python3"
  },
  "language_info": {
   "codemirror_mode": {
    "name": "ipython",
    "version": 3
   },
   "file_extension": ".py",
   "mimetype": "text/x-python",
   "name": "python",
   "nbconvert_exporter": "python",
   "pygments_lexer": "ipython3",
   "version": "3.12.1"
  }
 },
 "nbformat": 4,
 "nbformat_minor": 2
}
