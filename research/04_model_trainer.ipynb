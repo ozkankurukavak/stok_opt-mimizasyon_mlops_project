{
 "cells": [
  {
   "cell_type": "code",
   "execution_count": 1,
   "metadata": {},
   "outputs": [],
   "source": [
    "import os"
   ]
  },
  {
   "cell_type": "code",
   "execution_count": 2,
   "metadata": {},
   "outputs": [
    {
     "data": {
      "text/plain": [
       "'/workspaces/stok_opt-mimizasyon_mlops_project/research'"
      ]
     },
     "execution_count": 2,
     "metadata": {},
     "output_type": "execute_result"
    }
   ],
   "source": [
    "%pwd"
   ]
  },
  {
   "cell_type": "code",
   "execution_count": 3,
   "metadata": {},
   "outputs": [],
   "source": [
    "os.chdir(\"../\")"
   ]
  },
  {
   "cell_type": "code",
   "execution_count": 4,
   "metadata": {},
   "outputs": [
    {
     "data": {
      "text/plain": [
       "'/workspaces/stok_opt-mimizasyon_mlops_project'"
      ]
     },
     "execution_count": 4,
     "metadata": {},
     "output_type": "execute_result"
    }
   ],
   "source": [
    "%pwd"
   ]
  },
  {
   "cell_type": "markdown",
   "metadata": {},
   "source": [
    "# ENTİTİY\n"
   ]
  },
  {
   "cell_type": "code",
   "execution_count": 5,
   "metadata": {},
   "outputs": [],
   "source": [
    "from dataclasses import dataclass\n",
    "from pathlib import Path\n",
    "from typing import Dict, Any\n",
    "\n",
    "@dataclass\n",
    "class ModelTrainerConfig:\n",
    "    root_dir: Path                          # Modelin kaydedileceği ana dizin\n",
    "    train_data_path: Path                    # Eğitim verisinin yolu\n",
    "    test_data_path: Path                     # Test verisinin yolu\n",
    "    model_name: str                          # Modelin adı (Örneğin: \"xgboost_model.pkl\")\n",
    "    target_column: str                       # Hedef değişkenin adı\n",
    "    xgboost_params: Dict[str, Any]           # XGBoost parametrelerini burada saklayacağız\n",
    "    grid_search: bool = True                 # Grid search uygulanacak mı?\n",
    "    scoring_metric: str = \"accuracy\"         # Skor metrici, doğruluk için \"accuracy\" kullanılabilir\n",
    "    test_size: float = 0.2                   # Test seti boyutu, genellikle 0.2 ya da 0.3 kullanılır\n",
    "    random_state: int = 42            \n"
   ]
  },
  {
   "cell_type": "markdown",
   "metadata": {},
   "source": [
    "# CONFİG"
   ]
  },
  {
   "cell_type": "code",
   "execution_count": 6,
   "metadata": {},
   "outputs": [],
   "source": [
    "from src.stok_optimizasyonu_ml_project.constants import CONFIG_FILE_PATH,PARAMS_FILE_PATH,SCHEMA_FILE_PATH\n",
    "from src.stok_optimizasyonu_ml_project.utils.common import read_yaml,create_directories"
   ]
  },
  {
   "cell_type": "code",
   "execution_count": 7,
   "metadata": {},
   "outputs": [],
   "source": [
    "class ConfigurationManager:\n",
    "    def __init__(self, config_filepath=CONFIG_FILE_PATH, params_filepath=PARAMS_FILE_PATH, schema_filepath=SCHEMA_FILE_PATH):\n",
    "        # YAML dosyalarını okuma\n",
    "        self.config = read_yaml(config_filepath)\n",
    "        self.params = read_yaml(params_filepath)  # params.yaml\n",
    "        self.schema = read_yaml(schema_filepath)  # schema.yaml\n",
    "\n",
    "        # Eğer root_dir bir str ise, Path ile dönüştürülmeli\n",
    "        self.config.artifacts_root = Path(self.config.artifacts_root)\n",
    "        create_directories([self.config.artifacts_root])\n",
    "\n",
    "    def get_model_trainer_config(self) -> ModelTrainerConfig:\n",
    "        # Config, params ve schema'ya erişim sağlıyoruz\n",
    "        config = self.config.model_trainer\n",
    "        params = self.params.xgboost  # params.yaml'dan XGBoost parametreleri\n",
    "        schema = self.schema.TARGET_COLUMN  # target_column bilgisi schema.yaml'dan\n",
    "\n",
    "        # Klasörlerin oluşturulması\n",
    "        create_directories([config.root_dir])\n",
    "\n",
    "        # ModelTrainerConfig'i döndürüyoruz\n",
    "        model_trainer_config = ModelTrainerConfig(\n",
    "            root_dir=config.root_dir,\n",
    "            train_data_path=config.train_data_path,\n",
    "            test_data_path=config.test_data_path,\n",
    "            model_name=config.model_name,\n",
    "            target_column=schema.name,  # Target sütunu\n",
    "            xgboost_params=params,  # XGBoost parametrelerini geçiyoruz\n",
    "        )\n",
    "        \n",
    "        return model_trainer_config"
   ]
  },
  {
   "cell_type": "markdown",
   "metadata": {},
   "source": [
    "# COMPONENT"
   ]
  },
  {
   "cell_type": "code",
   "execution_count": 8,
   "metadata": {},
   "outputs": [],
   "source": [
    "import pandas as pd\n",
    "import os\n",
    "from src.stok_optimizasyonu_ml_project import logger\n",
    "from sklearn.model_selection import GridSearchCV\n",
    "import xgboost as xgb\n",
    "import joblib\n",
    "from sklearn.metrics import mean_squared_error\n"
   ]
  },
  {
   "cell_type": "code",
   "execution_count": 9,
   "metadata": {},
   "outputs": [],
   "source": [
    "from sklearn.model_selection import train_test_split\n",
    "\n",
    "class ModelTrainer:\n",
    "    def __init__(self, config: ModelTrainerConfig):\n",
    "        self.config = config\n",
    "\n",
    "    def train(self):\n",
    "        # Eğitim ve test verilerini yükle\n",
    "        train_data = pd.read_csv(self.config.train_data_path)\n",
    "        test_data = pd.read_csv(self.config.test_data_path)\n",
    "        \n",
    "        # Eğitim verisinden örnekleme yap\n",
    "        train_data_sample = train_data.sample(frac=0.1, random_state=42)  # Verinin %10'u ile eğitim\n",
    "        \n",
    "        # X ve y'yi ayır\n",
    "        X_train = train_data_sample.drop(self.config.target_column, axis=1)\n",
    "        y_train = train_data_sample[self.config.target_column]\n",
    "        X_test = test_data.drop(self.config.target_column, axis=1)\n",
    "        y_test = test_data[self.config.target_column]\n",
    "\n",
    "        # XGBoost modelini oluştur\n",
    "        xgb_model = xgb.XGBRegressor(n_jobs = -1)\n",
    "\n",
    "        # Parametre ızgarası\n",
    "        param_grid = {\n",
    "            'n_estimators': self.config.xgboost_params['n_estimators'],\n",
    "            'max_depth': self.config.xgboost_params['max_depth'],\n",
    "            'learning_rate': self.config.xgboost_params['learning_rate'],\n",
    "            'subsample': self.config.xgboost_params['subsample'],\n",
    "        }\n",
    "\n",
    "        # GridSearchCV ile parametre araması yapalım\n",
    "        grid_search = GridSearchCV(xgb_model, param_grid, cv=3, verbose=1)\n",
    "        grid_search.fit(X_train, y_train)\n",
    "\n",
    "        # En iyi parametreyi al\n",
    "        best_model = grid_search.best_estimator_\n",
    "\n",
    "        # Modeli test et\n",
    "        y_pred = best_model.predict(X_test)\n",
    "        mse = mean_squared_error(y_test, y_pred)\n",
    "        print(f'Mean Squared Error: {mse}')\n",
    "\n",
    "        # Modeli kaydet\n",
    "        joblib.dump(best_model, os.path.join(self.config.root_dir, self.config.model_name))"
   ]
  },
  {
   "cell_type": "code",
   "execution_count": 10,
   "metadata": {},
   "outputs": [
    {
     "name": "stdout",
     "output_type": "stream",
     "text": [
      "Fitting 3 folds for each of 48 candidates, totalling 144 fits\n",
      "Mean Squared Error: 1.0682826042175293\n"
     ]
    }
   ],
   "source": [
    "try:\n",
    "    # ConfigurationManager ile model konfigürasyonlarını alıyoruz\n",
    "    config = ConfigurationManager()\n",
    "    \n",
    "    # ModelTrainerConfig nesnesini alıyoruz\n",
    "    model_trainer_config = config.get_model_trainer_config()\n",
    "\n",
    "    # ModelTrainer sınıfını oluşturuyoruz, model_trainer_config parametre olarak geçiliyor\n",
    "    model_trainer = ModelTrainer(config=model_trainer_config)\n",
    "\n",
    "    # Modeli eğitiyoruz\n",
    "    model_trainer.train()\n",
    "\n",
    "except FileNotFoundError as e:\n",
    "    # Dosya bulunamadığında detaylı hata mesajı\n",
    "    raise Exception(f\"Dosya bulunamadı: {e}\")\n",
    "\n",
    "except KeyError as e:\n",
    "    # Anahtar hatası durumunda, eksik anahtar ile ilgili mesaj\n",
    "    raise Exception(f\"YAML dosyasındaki eksik anahtar: {e}\")\n",
    "\n",
    "except Exception as e:\n",
    "    # Diğer genel hatalar için istisna bilgisi\n",
    "    raise Exception(f\"Bir hata oluştu: {e}\")"
   ]
  },
  {
   "cell_type": "code",
   "execution_count": null,
   "metadata": {},
   "outputs": [],
   "source": []
  }
 ],
 "metadata": {
  "kernelspec": {
   "display_name": "Python 3",
   "language": "python",
   "name": "python3"
  },
  "language_info": {
   "codemirror_mode": {
    "name": "ipython",
    "version": 3
   },
   "file_extension": ".py",
   "mimetype": "text/x-python",
   "name": "python",
   "nbconvert_exporter": "python",
   "pygments_lexer": "ipython3",
   "version": "3.12.1"
  }
 },
 "nbformat": 4,
 "nbformat_minor": 2
}
