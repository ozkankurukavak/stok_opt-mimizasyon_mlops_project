{
 "cells": [
  {
   "cell_type": "code",
   "execution_count": 1,
   "metadata": {},
   "outputs": [],
   "source": [
    "import os"
   ]
  },
  {
   "cell_type": "code",
   "execution_count": 2,
   "metadata": {},
   "outputs": [
    {
     "data": {
      "text/plain": [
       "'/workspaces/stok_opt-mimizasyon_mlops_project/research'"
      ]
     },
     "execution_count": 2,
     "metadata": {},
     "output_type": "execute_result"
    }
   ],
   "source": [
    "%pwd"
   ]
  },
  {
   "cell_type": "code",
   "execution_count": 3,
   "metadata": {},
   "outputs": [],
   "source": [
    "os.chdir(\"../\")"
   ]
  },
  {
   "cell_type": "markdown",
   "metadata": {},
   "source": [
    "# ENTİTİY"
   ]
  },
  {
   "cell_type": "code",
   "execution_count": 4,
   "metadata": {},
   "outputs": [],
   "source": [
    "from dataclasses import dataclass\n",
    "from pathlib import Path\n",
    "\n",
    "@dataclass(frozen=True)\n",
    "class DataTransformationConfig:\n",
    "    root_dir:Path\n",
    "    data_path:Path\n",
    "    transformed_data_path:Path"
   ]
  },
  {
   "cell_type": "markdown",
   "metadata": {},
   "source": [
    "# CONFİG"
   ]
  },
  {
   "cell_type": "code",
   "execution_count": 5,
   "metadata": {},
   "outputs": [],
   "source": [
    "from src.stok_optimizasyonu_ml_project.constants import CONFIG_FILE_PATH,PARAMS_FILE_PATH,SCHEMA_FILE_PATH\n",
    "from src.stok_optimizasyonu_ml_project.utils.common import read_yaml,create_directories\n",
    "from pathlib import Path"
   ]
  },
  {
   "cell_type": "code",
   "execution_count": 6,
   "metadata": {},
   "outputs": [],
   "source": [
    "\n",
    "\n",
    "class ConfigurationManager:\n",
    "    def __init__(self, config_filepath=CONFIG_FILE_PATH, params_filepath=PARAMS_FILE_PATH, schema_filepath=SCHEMA_FILE_PATH):\n",
    "        self.config = read_yaml(config_filepath)\n",
    "        self.params = read_yaml(params_filepath)\n",
    "        self.schema = read_yaml(schema_filepath)\n",
    "\n",
    "        # Eğer root_dir bir str ise, Path ile dönüştürülmeli\n",
    "        self.config.artifacts_root = Path(self.config.artifacts_root)\n",
    "\n",
    "        create_directories([self.config.artifacts_root])\n",
    "\n",
    "    def get_data_transformation_config(self) -> DataTransformationConfig:\n",
    "        config = self.config.data_transformation\n",
    "\n",
    "        # Root directory için Path nesnesi oluşturuluyor\n",
    "        root_dir = Path(config.root_dir)\n",
    "        data_path = Path(config.data_path)\n",
    "        transformed_data_path = Path(config.transformed_data_path)  # Yeni eklenen kısım\n",
    "\n",
    "        create_directories([root_dir])\n",
    "\n",
    "        data_transformation_config = DataTransformationConfig(\n",
    "            root_dir=root_dir,\n",
    "            data_path=data_path,\n",
    "            transformed_data_path=transformed_data_path  # Yeni eklenen kısım\n",
    "    )\n",
    "\n",
    "        return data_transformation_config"
   ]
  },
  {
   "cell_type": "markdown",
   "metadata": {},
   "source": [
    "# COMPONENTS"
   ]
  },
  {
   "cell_type": "code",
   "execution_count": 7,
   "metadata": {},
   "outputs": [],
   "source": [
    "import os\n",
    "from src.stok_optimizasyonu_ml_project import logger\n",
    "from sklearn.model_selection import train_test_split\n",
    "import pandas as pd\n",
    "from src.stok_optimizasyonu_ml_project.utils.common import get_size\n",
    "import re\n",
    "from sklearn.preprocessing import OrdinalEncoder, LabelEncoder\n",
    "from sklearn.impute import SimpleImputer\n",
    "from sklearn.pipeline import Pipeline\n",
    "from src.stok_optimizasyonu_ml_project import logger\n"
   ]
  },
  {
   "cell_type": "code",
   "execution_count": 8,
   "metadata": {},
   "outputs": [],
   "source": [
    "from sklearn.model_selection import train_test_split\n",
    "\n",
    "class DataTransformation:\n",
    "    def __init__(self, config):\n",
    "        self.config = config\n",
    "\n",
    "    def transform(self):\n",
    "        try:\n",
    "            # Adım 1: Veriyi Yükle\n",
    "            df = pd.read_csv(self.config.data_path)  # Veriyi `data_path`'ten yükle\n",
    "\n",
    "            # Adım 2: Tarih işlemleri - Yıl, Ay, Gün, Hafta Günü ekle\n",
    "            df['SalesDate'] = pd.to_datetime(df['SalesDate'])\n",
    "            df['Year'] = df['SalesDate'].dt.year\n",
    "            df['Month'] = df['SalesDate'].dt.month\n",
    "            df['Day'] = df['SalesDate'].dt.day\n",
    "            df['Weekday'] = df['SalesDate'].dt.weekday\n",
    "            df.drop('SalesDate', axis=1, inplace=True)\n",
    "\n",
    "            # Adım 3: Ordinal Encoding - Size_sales ve Size_purchase\n",
    "            size_sales_order = sorted(df['Size_sales'].unique())  # Benzersiz değerleri sıralıyoruz\n",
    "            size_purchase_order = sorted(df['Size_purchase'].unique())  # Benzersiz değerleri sıralıyoruz\n",
    "\n",
    "            encoder_sales = OrdinalEncoder(categories=[size_sales_order])\n",
    "            df['Size_sales_encoded'] = encoder_sales.fit_transform(df[['Size_sales']])\n",
    "\n",
    "            encoder_purchase = OrdinalEncoder(categories=[size_purchase_order])\n",
    "            df['Size_purchase_encoded'] = encoder_purchase.fit_transform(df[['Size_purchase']])\n",
    "\n",
    "            # Adım 4: Label Encoding - Nominal veriler için encoding\n",
    "            nominal_columns = ['InventoryId', 'Description_sales', 'VendorName_sales', 'Description_purchase', 'VendorName_purchase']\n",
    "            label_encoder = LabelEncoder()\n",
    "            for col in nominal_columns:\n",
    "                df[col] = label_encoder.fit_transform(df[col])\n",
    "\n",
    "            # Adım 5: Boyut işlemleri - Size_sales ve Size_purchase dönüşümleri\n",
    "            def convert_size(size):\n",
    "                try:\n",
    "                    if \"Pk\" in size:\n",
    "                        match = re.search(r\"(\\d+)(mL|L).*?(\\d+)\\s*Pk\", size)\n",
    "                        if match:\n",
    "                            amount = int(match.group(1))  # mL veya L değeri\n",
    "                            unit = match.group(2)        # Birim (mL veya L)\n",
    "                            pack = int(match.group(3))   # Paket sayısı\n",
    "                            if unit == \"L\":\n",
    "                                amount *= 1000  # L → mL çevir\n",
    "                            return amount * pack  # Toplam hacim\n",
    "\n",
    "                    elif \"mL\" in size:\n",
    "                        match = re.search(r\"(\\d+)(mL)\", size)\n",
    "                        if match:\n",
    "                            return int(match.group(1))  # Sadece mL değeri al\n",
    "\n",
    "                    elif \"L\" in size:\n",
    "                        match = re.search(r\"(\\d+\\.\\d+|\\d+)(L)\", size)\n",
    "                        if match:\n",
    "                            return float(match.group(1)) * 1000  # L → mL çevir\n",
    "\n",
    "                    elif \"Oz\" in size:\n",
    "                        match = re.search(r\"(\\d+\\.\\d+|\\d+)\", size)\n",
    "                        if match:\n",
    "                            return float(match.group(1)) * 29.5735  # Oz → mL çevir\n",
    "\n",
    "                    else:\n",
    "                        return None  # Hatalı girişleri atla\n",
    "                except Exception as e:\n",
    "                    return None  # Hatalı durumlarda None döndür\n",
    "\n",
    "            df['Size_sales'] = df['Size_sales'].apply(convert_size)\n",
    "            df['Size_purchase'] = df['Size_purchase'].apply(convert_size)\n",
    "\n",
    "            # Median ile eksik değerleri doldur\n",
    "            median_value = df['Size_sales'].median()\n",
    "            df['Size_sales'] = df['Size_sales'].fillna(median_value)\n",
    "\n",
    "            # Veriyi Pipeline üzerinden işle\n",
    "            self.apply_pipeline(df)\n",
    "\n",
    "            # Adım 6: Veriyi Train ve Test olarak ayır\n",
    "            train_df, test_df = train_test_split(df, test_size=0.2, random_state=42)\n",
    "\n",
    "            # Train ve Test verilerini kaydet\n",
    "            self.save_data(train_df, 'train_data.csv')  # Eğitim verisi kaydet\n",
    "            self.save_data(test_df, 'test_data.csv')    # Test verisi kaydet\n",
    "\n",
    "            return df  # İşlenmiş veriyi döndür\n",
    "\n",
    "        except Exception as e:\n",
    "            # Hata durumunda hata mesajını fırlat\n",
    "            raise e\n",
    "\n",
    "    def apply_pipeline(self, df):\n",
    "        # Öznitelik sütunlarını tanımla\n",
    "        size_columns = ['Size_sales', 'Size_purchase']\n",
    "        nominal_columns = ['InventoryId', 'Description_sales', 'VendorName_sales', 'Description_purchase', 'VendorName_purchase']\n",
    "\n",
    "        # Pipeline setup\n",
    "        pipeline = Pipeline(steps=[\n",
    "            ('impute_size_sales', SimpleImputer(strategy='median')),  # Eksik verileri median ile doldur\n",
    "            ('ordinal_encoder_sales', OrdinalEncoder(categories=[sorted(df['Size_sales'].unique())])),  # Size_sales için Ordinal encoding\n",
    "            ('ordinal_encoder_purchase', OrdinalEncoder(categories=[sorted(df['Size_purchase'].unique())]))  # Size_purchase için Ordinal encoding\n",
    "        ])\n",
    "\n",
    "        # Veriye pipeline uygula\n",
    "        df['Size_sales'] = pipeline.named_steps['ordinal_encoder_sales'].fit_transform(df[['Size_sales']])\n",
    "        df['Size_purchase'] = pipeline.named_steps['ordinal_encoder_purchase'].fit_transform(df[['Size_purchase']])\n",
    "\n",
    "        # Nominal sütunlar için LabelEncoder'ı uygulayalım\n",
    "        for col in nominal_columns:\n",
    "            df[col] = LabelEncoder().fit_transform(df[col])\n",
    "\n",
    "    def save_data(self, df, filename):\n",
    "        \"\"\"\n",
    "        İşlenmiş veriyi config.yaml'daki belirtilen yola kaydeder.\n",
    "        \"\"\"\n",
    "        output_path = self.config.transformed_data_path / filename  # config.yaml'dan doğru yolu al\n",
    "        df.to_csv(output_path, index=False)\n",
    "        print(f\"Veri başarıyla kaydedildi: {output_path}\")"
   ]
  },
  {
   "cell_type": "markdown",
   "metadata": {},
   "source": [
    "# PİPELİNE"
   ]
  },
  {
   "cell_type": "code",
   "execution_count": 9,
   "metadata": {},
   "outputs": [
    {
     "name": "stdout",
     "output_type": "stream",
     "text": [
      "[2025-03-12 10:56:25,965: INFO: 718545784: Konfigürasyon dosyası başarıyla yüklendi.]\n",
      "[2025-03-12 10:56:25,966: INFO: 718545784: Data Transformation yapılandırması alındı.]\n",
      "[2025-03-12 10:56:25,966: INFO: 718545784: DataTransformation nesnesi başarıyla oluşturuldu.]\n",
      "Veri başarıyla kaydedildi: artifacts/data_transformation/train_data.csv\n",
      "Veri başarıyla kaydedildi: artifacts/data_transformation/test_data.csv\n",
      "[2025-03-12 10:56:43,114: INFO: 718545784: Veri başarıyla işlendi ve kaydedildi: artifacts/data_transformation]\n"
     ]
    }
   ],
   "source": [
    "try:\n",
    "    # 1. Konfigürasyon dosyasını yükle\n",
    "    config = ConfigurationManager()  # ConfigurationManager sınıfını kullanarak konfigürasyonları alıyoruz.\n",
    "    logger.info(\"Konfigürasyon dosyası başarıyla yüklendi.\")\n",
    "    \n",
    "    # 2. Data Transformation konfigürasyonunu al\n",
    "    data_transformation_config = config.get_data_transformation_config()  # Data ingesti için gerekli yapılandırmayı alıyoruz.\n",
    "    logger.info(\"Data Transformation yapılandırması alındı.\")\n",
    "    \n",
    "    # 3. DataTransformation nesnesini oluştur\n",
    "    data_transformation = DataTransformation(config=data_transformation_config)  # DataTransformation sınıfı ile veri işleme işlemlerini başlatıyoruz.\n",
    "    logger.info(\"DataTransformation nesnesi başarıyla oluşturuldu.\")\n",
    "    \n",
    "    # 4. Veriyi işleyip kaydet\n",
    "    transformed_data = data_transformation.transform()  # Veriyi işle ve kaydet\n",
    "    logger.info(f\"Veri başarıyla işlendi ve kaydedildi: {data_transformation_config.transformed_data_path}\")\n",
    "    \n",
    "except Exception as e:\n",
    "    # Hata durumunda hata mesajını fırlat ve logla\n",
    "    logger.error(f\"Veri dönüşümünde hata oluştu: {str(e)}\")  # Hata mesajını logla\n",
    "    raise e  # Hata durumunda, fırlatılan hatayı yakalayarak geri gönderiyoruz."
   ]
  }
 ],
 "metadata": {
  "kernelspec": {
   "display_name": "Python 3",
   "language": "python",
   "name": "python3"
  },
  "language_info": {
   "codemirror_mode": {
    "name": "ipython",
    "version": 3
   },
   "file_extension": ".py",
   "mimetype": "text/x-python",
   "name": "python",
   "nbconvert_exporter": "python",
   "pygments_lexer": "ipython3",
   "version": "3.12.1"
  }
 },
 "nbformat": 4,
 "nbformat_minor": 2
}
